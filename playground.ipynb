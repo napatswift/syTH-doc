{
 "cells": [
  {
   "cell_type": "code",
   "execution_count": 1,
   "id": "45561349",
   "metadata": {},
   "outputs": [],
   "source": [
    "from PIL import Image, ImageFont, ImageDraw"
   ]
  },
  {
   "cell_type": "code",
   "execution_count": 493,
   "id": "5a86ad29",
   "metadata": {},
   "outputs": [],
   "source": [
    "import mistune\n",
    "import re\n",
    "import random\n",
    "import pandas as pd\n",
    "import os"
   ]
  },
  {
   "cell_type": "code",
   "execution_count": 435,
   "id": "45a25d84",
   "metadata": {},
   "outputs": [],
   "source": [
    "from faker import Faker"
   ]
  },
  {
   "cell_type": "code",
   "execution_count": 615,
   "id": "db69aea3",
   "metadata": {},
   "outputs": [],
   "source": [
    "politician = pd.read_csv('data/TWFU-PoliticianData.csv', skiprows=1)"
   ]
  },
  {
   "cell_type": "code",
   "execution_count": 707,
   "id": "c137ad55",
   "metadata": {},
   "outputs": [],
   "source": [
    "class DocTemplate:\n",
    "    def __init__(self,):\n",
    "        template_fpath = [os.path.join('templates', fname)\n",
    "                          for fname in os.listdir('templates/')\n",
    "                          if fname.endswith('.md')]\n",
    "        self.templates = [open(fp).read() for fp in template_fpath]\n",
    "    def gen(self):\n",
    "        return random.choice(self.templates)"
   ]
  },
  {
   "cell_type": "code",
   "execution_count": 760,
   "id": "28d7c768",
   "metadata": {},
   "outputs": [],
   "source": [
    "def get_token_text(token):\n",
    "    assert token[0] == '{' and token[-1] == '}'\n",
    "    token = token[1:-1]\n",
    "    if token == 'number':\n",
    "        if random.random() > 0.5:\n",
    "            return str(random.randint(0, 50))\n",
    "        return str(random.randint(0, 1000))\n",
    "    if token == 'pm_id':\n",
    "        return '%03d' % random.randint(0, 1000)\n",
    "    if token == 'pm_name_lastname':\n",
    "        if random.random() > 0.5:\n",
    "            sample = politician.sample(3)\n",
    "            title = sample.iloc[0]['title']\n",
    "            name = sample.iloc[1]['name']\n",
    "            lastname = sample.iloc[2]['lastname']\n",
    "        else:\n",
    "            faker=Faker('th')\n",
    "            title = random.choice(['นาย', 'นาง', 'นางสาว'])\n",
    "            name = faker.first_name()\n",
    "            lastname = faker.last_name()\n",
    "        return f'{title}{name} {lastname}'\n",
    "    if token == 'party':\n",
    "        text = politician[~politician.party.isna()].party.sample().iloc[0]\n",
    "        return text\n",
    "    if token == 'vote':\n",
    "        return random.choice(['เห็นด้วย', 'ไม่เห็นด้วย', 'เห็นไม่ด้วย', '-'])\n",
    "    if token == 'phonenumber_th':\n",
    "        faker=Faker('th')\n",
    "        return faker.phone_number()\n",
    "    if token == 'month':\n",
    "        faker=Faker('th')\n",
    "        return faker.month_name()\n",
    "    return 'dummy'\n",
    "    \n",
    "def get_doc_md(template):\n",
    "    \"\"\"return markdown text\"\"\"\n",
    "    tokens = re.findall('\\{[^\\}]*\\}', template)\n",
    "    for token in tokens:\n",
    "        template=template.replace(token, get_token_text(token), 1)\n",
    "    return template\n",
    "\n",
    "def get_font():\n",
    "    return ImageFont.truetype('fonts/THSarabun.ttf', size=18)\n",
    "\n",
    "def create_paper(\n",
    "    width=826,\n",
    "    height=1169,\n",
    "    color='#fff'\n",
    "):\n",
    "    return Image.new('RGB', (width, height,), color)\n",
    "\n",
    "\n",
    "def put_text(canvas, x, y, text, font):\n",
    "    words = text.split()\n",
    "    curr_x = x\n",
    "    word_bbox = []\n",
    "    for i in range(len(words)):\n",
    "        word = words[i]\n",
    "        canvas.text((curr_x, y), word, fill='black', font=font)\n",
    "        \n",
    "        bbox = canvas.textbbox((curr_x, y), word, font=font)\n",
    "        word_bbox.append({'bbox': bbox, 'text': word})\n",
    "        w = font.getlength(word)\n",
    "        curr_x += w\n",
    "        if i+1 < len(words):\n",
    "            curr_x += font.getlength(' ')\n",
    "\n",
    "    return word_bbox\n",
    "\n",
    "\n",
    "def generate():\n",
    "    markdown_parser = mistune.create_markdown(plugins=['table'], renderer='ast')\n",
    "    paper = create_paper()\n",
    "    canvas = ImageDraw.Draw(paper)\n",
    "    font = get_font()\n",
    "    doc_template_gen = DocTemplate()\n",
    "    parsed_components = markdown_parser(get_doc_md(doc_template_gen.gen()))\n",
    "    line_height = 24\n",
    "    position_start={'x': 70, 'y': 100}\n",
    "    curr=position_start.copy()\n",
    "    \n",
    "    text_bbox = []\n",
    "    for component in parsed_components:\n",
    "        if component['type'] == 'paragraph':\n",
    "            for c_comp in component['children']:\n",
    "                #canvas.text(list(curr.values()), c_comp['text'], fill='black', font=font)\n",
    "                args = {**curr, 'text': c_comp['text'], 'font': font, 'canvas': canvas}\n",
    "                text_bbox.extend(put_text(**args))\n",
    "                curr['y'] += line_height\n",
    "\n",
    "        elif component['type'] == 'table':\n",
    "            # get number of column\n",
    "            col_num = None\n",
    "            col_ratio = []\n",
    "            ## get config\n",
    "            for c_comp in component['children']:\n",
    "                if c_comp['type'] == 'table_head':\n",
    "                    # count number of columns\n",
    "                    col_num = len(c_comp['children'])\n",
    "                    for cell in c_comp['children']:\n",
    "                        col_ratio.append(float(cell['children'][0]['text']))\n",
    "                    assert 1 == sum(col_ratio), 'the ratio should add up to 1'\n",
    "            ####################\n",
    "\n",
    "            table_start = position_start['x']\n",
    "            table_size = paper.size[0] - table_start*2\n",
    "            \n",
    "            column_widths = [cr*table_size for cr in col_ratio]\n",
    "            \n",
    "            for c_comp in component['children']:\n",
    "                for row in c_comp['children']:\n",
    "                    # skip header\n",
    "                    if c_comp['type'] == 'table_head':\n",
    "                        continue\n",
    "                    \n",
    "                    for i, cell in enumerate(row['children']):\n",
    "                        if len(cell['children']) == 0: continue\n",
    "                            \n",
    "                        ## position\n",
    "                        cell_x_start = sum(column_widths[:i])\n",
    "                        if i != 0: cell_x_start += 5\n",
    "                        cell_width = column_widths[i]\n",
    "                        x = table_start+cell_x_start\n",
    "                        ####################\n",
    "                        \n",
    "                        text = cell['children'][0]['text']\n",
    "                        \n",
    "                        ## alignment of text\n",
    "                        if cell['align'] == 'right':\n",
    "                            text_w = font.getlength(text)\n",
    "                            x = x + cell_width - text_w\n",
    "                        elif cell['align'] == 'center':\n",
    "                            text_w = font.getlength(text)\n",
    "                            x = x + cell_width/2 - text_w/2\n",
    "                        ####################\n",
    "                        \n",
    "                        args = {\n",
    "                                'x': x,\n",
    "                                'y': curr['y'],\n",
    "                                'text': text,\n",
    "                                'font': font,\n",
    "                                'canvas': canvas\n",
    "                               }\n",
    "                        text_bbox.extend(put_text(**args))\n",
    "\n",
    "                    curr['y'] += line_height\n",
    "        elif component['type'] == 'block_html':\n",
    "            tags = re.findall(r'<([^>/]+)/?>', component['text'])\n",
    "            for tag in tags:\n",
    "                # if the tag is <br> or <br/> then add line\n",
    "                if tag == 'br': curr['y'] += line_height\n",
    "                else: print(tag)\n",
    "        else:\n",
    "            print(component)\n",
    "    return paper, text_bbox"
   ]
  },
  {
   "cell_type": "code",
   "execution_count": 761,
   "id": "458ecfd4",
   "metadata": {
    "scrolled": false
   },
   "outputs": [
    {
     "data": {
      "image/png": "[encoded data removed]",
      "text/plain": [
       "<PIL.Image.Image image mode=RGB size=826x1169>"
      ]
     },
     "execution_count": 761,
     "metadata": {},
     "output_type": "execute_result"
    }
   ],
   "source": [
    "img, bbox = generate()\n",
    "img"
   ]
  },
  {
   "cell_type": "code",
   "execution_count": 775,
   "id": "cdbb8767",
   "metadata": {},
   "outputs": [],
   "source": [
    "import augraphy as ag\n",
    "import numpy as np"
   ]
  },
  {
   "cell_type": "code",
   "execution_count": 940,
   "id": "08c8248c",
   "metadata": {},
   "outputs": [
    {
     "name": "stdout",
     "output_type": "stream",
     "text": [
      "Help on class DirtyDrum in module augraphy.augmentations.dirtydrum:\n",
      "\n",
      "class DirtyDrum(augraphy.base.augmentation.Augmentation)\n",
      " |  DirtyDrum(line_width_range=(1, 4), line_concentration=0.1, direction=-1, noise_intensity=0.5, noise_value=(0, 30), ksize=(3, 3), sigmaX=0, p=1)\n",
      " |  \n",
      " |  Emulates dirty drum effect by creating stripes of vertical and\n",
      " |  horizontal noises.\n",
      " |  \n",
      " |  :param line_width_range: Pair of ints determining the range from which the\n",
      " |         width of a dirty drum line is sampled.\n",
      " |  :type line_width_range: tuple, optional\n",
      " |  :param line_concentration: Concentration or number of dirty drum lines.\n",
      " |  :type line_concentration: float, optional\n",
      " |  :param direction: Direction of effect, -1=random, 0=horizontal, 1=vertical, 2=both.\n",
      " |  :type direction: int, optional\n",
      " |  :param noise_intensity: Intensity of dirty drum effect, recommended value\n",
      " |         range from 0.8 to 1.0.\n",
      " |  :type noise_intensity: float, optional\n",
      " |  :param noise_value: Tuple of ints to determine value of dirty drum noise.\n",
      " |  :type noise_value: tuple, optional\n",
      " |  :param ksize: Tuple of height/width pairs from which to sample the kernel\n",
      " |         size. Higher value increases the spreadness of stripes.\n",
      " |  :type ksizes: tuple, optional\n",
      " |  :param sigmaX: Standard deviation of the kernel along the x-axis.\n",
      " |  :type sigmaX: float, optional\n",
      " |  :param p: The probability this Augmentation will be applied.\n",
      " |  :type p: float, optional\n",
      " |  \n",
      " |  Method resolution order:\n",
      " |      DirtyDrum\n",
      " |      augraphy.base.augmentation.Augmentation\n",
      " |      builtins.object\n",
      " |  \n",
      " |  Methods defined here:\n",
      " |  \n",
      " |  __call__(self, image, layer=None, force=False)\n",
      " |      Call self as a function.\n",
      " |  \n",
      " |  __init__(self, line_width_range=(1, 4), line_concentration=0.1, direction=-1, noise_intensity=0.5, noise_value=(0, 30), ksize=(3, 3), sigmaX=0, p=1)\n",
      " |      Constructor method\n",
      " |  \n",
      " |  __repr__(self)\n",
      " |      Return repr(self).\n",
      " |  \n",
      " |  add_noise(self, img, y0, yn, x0, xn)\n",
      " |      Add noise to stripe of image.\n",
      " |      \n",
      " |      :param img: The image to apply the function.\n",
      " |      :type img: numpy.array (numpy.uint8)\n",
      " |      :param y0: The y start coordinate of the image stripe.\n",
      " |      :type y0: int\n",
      " |      :param yn: The y end coordinate of the image stripe.\n",
      " |      :type yn: int\n",
      " |      :param x0: The x start coordinate of the image stripe.\n",
      " |      :type x0: int\n",
      " |      :param xn: The x end coordinate of the image stripe.\n",
      " |      :type xn: int\n",
      " |  \n",
      " |  blend(self, img, img_dirty)\n",
      " |      Blend two images to produce DirtyDrum effect。\n",
      " |      \n",
      " |      :param img: The background image to apply the blending function.\n",
      " |      :type img: numpy.array (numpy.uint8)\n",
      " |      :param img_dirty: The foreground image to apply the blending function.\n",
      " |      :type img_dirty: numpy.array (numpy.uint8)\n",
      " |  \n",
      " |  create_dirty_mask(self, img, line_width_range=(6, 18), axis=1)\n",
      " |      Create mask for drity drum effect。\n",
      " |      \n",
      " |      :param img: The image to apply the function.\n",
      " |      :type img: numpy.array (numpy.uint8)\n",
      " |      :param line_width_range: Pair of ints determining the range from which the width of a dirty drum line is sampled.\n",
      " |      :type line_width_range: tuple\n",
      " |      :param axis: The direction of noise line, 0 - horizontal, 1 - vertical.\n",
      " |      :type axis: int\n",
      " |  \n",
      " |  ----------------------------------------------------------------------\n",
      " |  Methods inherited from augraphy.base.augmentation.Augmentation:\n",
      " |  \n",
      " |  should_run(self)\n",
      " |      Determines whether or not the augmentation should be applied\n",
      " |      by callers.\n",
      " |      \n",
      " |      :return: True if the probability given was no smaller than the\n",
      " |          random sample on the unit interval.\n",
      " |      :rtype: bool\n",
      " |  \n",
      " |  ----------------------------------------------------------------------\n",
      " |  Data descriptors inherited from augraphy.base.augmentation.Augmentation:\n",
      " |  \n",
      " |  __dict__\n",
      " |      dictionary for instance variables (if defined)\n",
      " |  \n",
      " |  __weakref__\n",
      " |      list of weak references to the object (if defined)\n",
      "\n"
     ]
    }
   ],
   "source": [
    "help(ag.DirtyDrum)"
   ]
  },
  {
   "cell_type": "code",
   "execution_count": 1402,
   "id": "b2c086a0",
   "metadata": {},
   "outputs": [],
   "source": [
    "pipeline = ag.AugmentationSequence([\n",
    "    ag.LowInkRandomLines(),\n",
    "    ag.PencilScribbles(size_range=(10, 50),stroke_count_range=(1,2), count_range=(1,5), thickness_range=(1,2), p=.8),\n",
    "    ag.Gamma(gamma_range=(.1,.3)),\n",
    "    ag.LowInkPeriodicLines(),\n",
    "])"
   ]
  },
  {
   "cell_type": "code",
   "execution_count": 1410,
   "id": "4842e156",
   "metadata": {},
   "outputs": [
    {
     "data": {
      "text/plain": [
       "[1156.3999999999999, 1636.6]"
      ]
     },
     "execution_count": 1410,
     "metadata": {},
     "output_type": "execute_result"
    }
   ],
   "source": [
    "[x*1.4 for x in [826, 1169]]"
   ]
  },
  {
   "cell_type": "code",
   "execution_count": null,
   "id": "08d2dda1",
   "metadata": {},
   "outputs": [],
   "source": []
  },
  {
   "cell_type": "code",
   "execution_count": null,
   "id": "eeab5634",
   "metadata": {},
   "outputs": [],
   "source": []
  },
  {
   "cell_type": "code",
   "execution_count": null,
   "id": "608c84c9",
   "metadata": {},
   "outputs": [],
   "source": []
  },
  {
   "cell_type": "code",
   "execution_count": null,
   "id": "df075c9e",
   "metadata": {},
   "outputs": [],
   "source": []
  },
  {
   "cell_type": "code",
   "execution_count": null,
   "id": "0aca0425",
   "metadata": {},
   "outputs": [],
   "source": []
  },
  {
   "cell_type": "code",
   "execution_count": null,
   "id": "898b88e4",
   "metadata": {},
   "outputs": [],
   "source": []
  },
  {
   "cell_type": "code",
   "execution_count": null,
   "id": "38b298bf",
   "metadata": {},
   "outputs": [],
   "source": []
  },
  {
   "cell_type": "code",
   "execution_count": null,
   "id": "1417e8af",
   "metadata": {},
   "outputs": [],
   "source": []
  },
  {
   "cell_type": "code",
   "execution_count": null,
   "id": "f82e34ac",
   "metadata": {},
   "outputs": [],
   "source": []
  },
  {
   "cell_type": "code",
   "execution_count": null,
   "id": "18e1e64e",
   "metadata": {},
   "outputs": [],
   "source": []
  },
  {
   "cell_type": "code",
   "execution_count": null,
   "id": "95da8b11",
   "metadata": {},
   "outputs": [],
   "source": []
  },
  {
   "cell_type": "code",
   "execution_count": null,
   "id": "04106a0a",
   "metadata": {},
   "outputs": [],
   "source": []
  },
  {
   "cell_type": "code",
   "execution_count": null,
   "id": "5f22f0e0",
   "metadata": {},
   "outputs": [],
   "source": []
  },
  {
   "cell_type": "code",
   "execution_count": null,
   "id": "50e12181",
   "metadata": {},
   "outputs": [],
   "source": []
  },
  {
   "cell_type": "code",
   "execution_count": null,
   "id": "82e7fc1a",
   "metadata": {},
   "outputs": [],
   "source": []
  },
  {
   "cell_type": "code",
   "execution_count": null,
   "id": "52f1d896",
   "metadata": {},
   "outputs": [],
   "source": []
  },
  {
   "cell_type": "code",
   "execution_count": null,
   "id": "df28c0ca",
   "metadata": {},
   "outputs": [],
   "source": []
  },
  {
   "cell_type": "code",
   "execution_count": null,
   "id": "8115620a",
   "metadata": {},
   "outputs": [],
   "source": []
  },
  {
   "cell_type": "code",
   "execution_count": null,
   "id": "985a3836",
   "metadata": {},
   "outputs": [],
   "source": []
  },
  {
   "cell_type": "code",
   "execution_count": null,
   "id": "091cf8a3",
   "metadata": {},
   "outputs": [],
   "source": []
  },
  {
   "cell_type": "code",
   "execution_count": null,
   "id": "af13c63f",
   "metadata": {},
   "outputs": [],
   "source": []
  },
  {
   "cell_type": "code",
   "execution_count": null,
   "id": "f62b4c95",
   "metadata": {},
   "outputs": [],
   "source": []
  },
  {
   "cell_type": "code",
   "execution_count": null,
   "id": "4681d193",
   "metadata": {},
   "outputs": [],
   "source": []
  },
  {
   "cell_type": "code",
   "execution_count": null,
   "id": "13307cec",
   "metadata": {},
   "outputs": [],
   "source": []
  },
  {
   "cell_type": "code",
   "execution_count": null,
   "id": "1e94aa3e",
   "metadata": {},
   "outputs": [],
   "source": []
  },
  {
   "cell_type": "code",
   "execution_count": null,
   "id": "89e58335",
   "metadata": {},
   "outputs": [],
   "source": []
  },
  {
   "cell_type": "code",
   "execution_count": null,
   "id": "3f6c1a48",
   "metadata": {},
   "outputs": [],
   "source": []
  },
  {
   "cell_type": "code",
   "execution_count": null,
   "id": "aee515d7",
   "metadata": {},
   "outputs": [],
   "source": []
  }
 ],
 "metadata": {
  "kernelspec": {
   "display_name": "Python 3 (ipykernel)",
   "language": "python",
   "name": "python3"
  },
  "language_info": {
   "codemirror_mode": {
    "name": "ipython",
    "version": 3
   },
   "file_extension": ".py",
   "mimetype": "text/x-python",
   "name": "python",
   "nbconvert_exporter": "python",
   "pygments_lexer": "ipython3",
   "version": "3.9.7"
  }
 },
 "nbformat": 4,
 "nbformat_minor": 5
}
