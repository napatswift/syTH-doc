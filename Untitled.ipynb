{
 "cells": [
  {
   "cell_type": "code",
   "execution_count": 66,
   "id": "f9599481",
   "metadata": {},
   "outputs": [],
   "source": [
    "from faker import Faker\n",
    "from PIL import ImageFont, Image, ImageDraw"
   ]
  },
  {
   "cell_type": "code",
   "execution_count": 5,
   "id": "3196964f",
   "metadata": {},
   "outputs": [],
   "source": [
    "faker = Faker('th')"
   ]
  },
  {
   "cell_type": "code",
   "execution_count": 65,
   "id": "b29cddde",
   "metadata": {},
   "outputs": [
    {
     "data": {
      "text/plain": [
       "'5/7 ถนนพรสีมา แม่ลาว กระบี่ 93020'"
      ]
     },
     "execution_count": 65,
     "metadata": {},
     "output_type": "execute_result"
    }
   ],
   "source": [
    "faker.factories[0].address()"
   ]
  },
  {
   "cell_type": "code",
   "execution_count": 67,
   "id": "cc47126e",
   "metadata": {},
   "outputs": [],
   "source": [
    "font = ImageFont.truetype('fonts/THSarabun.ttf')"
   ]
  },
  {
   "cell_type": "code",
   "execution_count": 68,
   "id": "f0cfc7c5",
   "metadata": {},
   "outputs": [
    {
     "data": {
      "text/plain": [
       "<PIL.ImageFont.FreeTypeFont at 0x7fc3af81eb50>"
      ]
     },
     "execution_count": 68,
     "metadata": {},
     "output_type": "execute_result"
    }
   ],
   "source": [
    "font.getbbox('')"
   ]
  },
  {
   "cell_type": "code",
   "execution_count": null,
   "id": "db5c01e8",
   "metadata": {},
   "outputs": [],
   "source": []
  }
 ],
 "metadata": {
  "kernelspec": {
   "display_name": "Python 3 (ipykernel)",
   "language": "python",
   "name": "python3"
  },
  "language_info": {
   "codemirror_mode": {
    "name": "ipython",
    "version": 3
   },
   "file_extension": ".py",
   "mimetype": "text/x-python",
   "name": "python",
   "nbconvert_exporter": "python",
   "pygments_lexer": "ipython3",
   "version": "3.9.7"
  }
 },
 "nbformat": 4,
 "nbformat_minor": 5
}
