{
 "cells": [
  {
   "cell_type": "code",
   "execution_count": 1,
   "id": "7c910ad0",
   "metadata": {},
   "outputs": [],
   "source": [
    "from faker import Faker\n",
    "from PIL import Image, ImageFont, ImageDraw\n",
    "import random\n",
    "import augraphy as ag\n",
    "import numpy as np\n",
    "import os\n",
    "from tqdm import trange"
   ]
  },
  {
   "cell_type": "code",
   "execution_count": 2,
   "id": "f1dd6989",
   "metadata": {},
   "outputs": [],
   "source": [
    "gen = Faker('th')"
   ]
  },
  {
   "cell_type": "code",
   "execution_count": 3,
   "id": "b01896de",
   "metadata": {
    "scrolled": true
   },
   "outputs": [
    {
     "data": {
      "text/plain": [
       "897998725"
      ]
     },
     "execution_count": 3,
     "metadata": {},
     "output_type": "execute_result"
    }
   ],
   "source": [
    "gen.random_number()"
   ]
  },
  {
   "cell_type": "code",
   "execution_count": 4,
   "id": "da6b8b70",
   "metadata": {},
   "outputs": [],
   "source": [
    "method_names = (\n",
    "    'address','aba','administrative_unit',\n",
    "    'amphoe', 'city','color_name',\n",
    "    'company', 'date', 'day_of_week', 'first_name',\n",
    "    'first_name_female', 'first_name_male', 'last_name',\n",
    "    'license_plate', 'street_address', 'street_name',\n",
    "    'suffix', 'tambon', 'time', 'random_number', 'prefix'\n",
    ")\n",
    "methods  = [gen.__getattr__(m) for m in method_names]\n",
    "methods += [lambda: gen.sentence(5),\n",
    "            lambda: gen.prefix() + gen.random_element(['', ' ']) + gen.name(),\n",
    "            lambda: gen.prefix() + gen.random_element(['', ' ']) + gen.first_name(),\n",
    "           ]"
   ]
  },
  {
   "cell_type": "code",
   "execution_count": 5,
   "id": "9e682777",
   "metadata": {},
   "outputs": [],
   "source": [
    "def arabic2th(n):\n",
    "    return chr(ord(n)+(ord('๑')-ord('1')))"
   ]
  },
  {
   "cell_type": "code",
   "execution_count": 6,
   "id": "722f5d24",
   "metadata": {},
   "outputs": [],
   "source": [
    "font = ImageFont.truetype('fonts/THSarabun Bold.ttf', size=50)"
   ]
  },
  {
   "cell_type": "code",
   "execution_count": 7,
   "id": "d0344254",
   "metadata": {},
   "outputs": [],
   "source": [
    "fonts = ['fonts/'+f for f in os.listdir('fonts/') if f.endswith('.ttf')]\n",
    "def get_random_font():\n",
    "    return ImageFont.truetype(random.choice(fonts), size=random.randint(20,100))"
   ]
  },
  {
   "cell_type": "code",
   "execution_count": 8,
   "id": "aa10ff54",
   "metadata": {
    "scrolled": true
   },
   "outputs": [],
   "source": [
    "def get_random_text():\n",
    "    text = gen.random_element(methods)()\n",
    "    if not isinstance(text, str):\n",
    "        text = str(text)\n",
    "    if ''.isalnum() and random.random() < .5:\n",
    "        text = ''.join([arabic2th(c) if c.isdigit() else c for c in text])\n",
    "    return text\n",
    "    \n",
    "def gen_image_text():\n",
    "    font = get_random_font()\n",
    "    text = get_random_text()\n",
    "    x0,y0,x1,y1 = font.getbbox(text,)\n",
    "    px0,py0,px1,py1 = [random.randint(0, 20) for _ in range(4)] # padding\n",
    "    image_c, text_c = random.choice([['white', 'black'],])\n",
    "    image = Image.new('RGB', (x1+px0+px1, y1+py0+py1), image_c)\n",
    "    draw = ImageDraw.Draw(image)\n",
    "    draw.text((px0,py0), text, fill=text_c, font=font,)\n",
    "    return image, text"
   ]
  },
  {
   "cell_type": "code",
   "execution_count": 9,
   "id": "2d8d6709",
   "metadata": {},
   "outputs": [],
   "source": [
    "aug_pipeline = ag.AugmentationSequence([\n",
    "    ag.LowInkRandomLines(),\n",
    "    ag.BleedThrough(),\n",
    "    ag.DirtyDrum(),\n",
    "    ag.Gamma(gamma_range=(.1, .3)),\n",
    "    ag.LowInkPeriodicLines((1,1), (3,10)),\n",
    "    ag.DirtyDrum(),\n",
    "    ag.Dithering(p=.3),\n",
    "])"
   ]
  },
  {
   "cell_type": "code",
   "execution_count": 10,
   "id": "2581bfa6",
   "metadata": {},
   "outputs": [],
   "source": [
    "def aug(image: Image):\n",
    "    return Image.fromarray(aug_pipeline(np.array(image))[0])"
   ]
  },
  {
   "cell_type": "code",
   "execution_count": 14,
   "id": "07d3e500",
   "metadata": {},
   "outputs": [],
   "source": [
    "def gen_and_aug():\n",
    "    img, txt = gen_image_text()\n",
    "    return [aug(img) for _ in range(3)], txt"
   ]
  },
  {
   "cell_type": "code",
   "execution_count": 15,
   "id": "1fb93c81",
   "metadata": {},
   "outputs": [
    {
     "name": "stderr",
     "output_type": "stream",
     "text": [
      "  3%|█                                 | 12259/400000 [17:52<9:25:26, 11.43it/s]\n"
     ]
    },
    {
     "ename": "KeyboardInterrupt",
     "evalue": "",
     "output_type": "error",
     "traceback": [
      "\u001b[0;31m---------------------------------------------------------------------------\u001b[0m",
      "\u001b[0;31mKeyboardInterrupt\u001b[0m                         Traceback (most recent call last)",
      "\u001b[0;32m/var/folders/rk/cgmwyjj17ddfrn5d_vqzdyr00000gn/T/ipykernel_35826/3671593083.py\u001b[0m in \u001b[0;36m<module>\u001b[0;34m\u001b[0m\n\u001b[1;32m     10\u001b[0m         \u001b[0mimg_name\u001b[0m \u001b[0;34m=\u001b[0m \u001b[0;34mf'{img_id}.png'\u001b[0m\u001b[0;34m\u001b[0m\u001b[0;34m\u001b[0m\u001b[0m\n\u001b[1;32m     11\u001b[0m         \u001b[0mimg_id\u001b[0m \u001b[0;34m+=\u001b[0m \u001b[0;36m1\u001b[0m\u001b[0;34m\u001b[0m\u001b[0;34m\u001b[0m\u001b[0m\n\u001b[0;32m---> 12\u001b[0;31m         \u001b[0mimg\u001b[0m\u001b[0;34m.\u001b[0m\u001b[0msave\u001b[0m\u001b[0;34m(\u001b[0m\u001b[0mos\u001b[0m\u001b[0;34m.\u001b[0m\u001b[0mpath\u001b[0m\u001b[0;34m.\u001b[0m\u001b[0mjoin\u001b[0m\u001b[0;34m(\u001b[0m\u001b[0moutput_dir\u001b[0m\u001b[0;34m,\u001b[0m\u001b[0mimg_name\u001b[0m\u001b[0;34m)\u001b[0m\u001b[0;34m,\u001b[0m \u001b[0mquality\u001b[0m\u001b[0;34m=\u001b[0m\u001b[0;36m100\u001b[0m\u001b[0;34m,\u001b[0m \u001b[0msubsampling\u001b[0m\u001b[0;34m=\u001b[0m\u001b[0;36m0\u001b[0m\u001b[0;34m)\u001b[0m\u001b[0;34m\u001b[0m\u001b[0;34m\u001b[0m\u001b[0m\n\u001b[0m\u001b[1;32m     13\u001b[0m         \u001b[0mfp\u001b[0m\u001b[0;34m.\u001b[0m\u001b[0mwrite\u001b[0m\u001b[0;34m(\u001b[0m\u001b[0;34mf'{img_name},{text}\\n'\u001b[0m\u001b[0;34m)\u001b[0m\u001b[0;34m\u001b[0m\u001b[0;34m\u001b[0m\u001b[0m\n\u001b[1;32m     14\u001b[0m \u001b[0mfp\u001b[0m\u001b[0;34m.\u001b[0m\u001b[0mclose\u001b[0m\u001b[0;34m(\u001b[0m\u001b[0;34m)\u001b[0m\u001b[0;34m\u001b[0m\u001b[0;34m\u001b[0m\u001b[0m\n",
      "\u001b[0;32m~/opt/anaconda3/lib/python3.9/site-packages/PIL/Image.py\u001b[0m in \u001b[0;36msave\u001b[0;34m(self, fp, format, **params)\u001b[0m\n\u001b[1;32m   2318\u001b[0m \u001b[0;34m\u001b[0m\u001b[0m\n\u001b[1;32m   2319\u001b[0m         \u001b[0;32mtry\u001b[0m\u001b[0;34m:\u001b[0m\u001b[0;34m\u001b[0m\u001b[0;34m\u001b[0m\u001b[0m\n\u001b[0;32m-> 2320\u001b[0;31m             \u001b[0msave_handler\u001b[0m\u001b[0;34m(\u001b[0m\u001b[0mself\u001b[0m\u001b[0;34m,\u001b[0m \u001b[0mfp\u001b[0m\u001b[0;34m,\u001b[0m \u001b[0mfilename\u001b[0m\u001b[0;34m)\u001b[0m\u001b[0;34m\u001b[0m\u001b[0;34m\u001b[0m\u001b[0m\n\u001b[0m\u001b[1;32m   2321\u001b[0m         \u001b[0;32mexcept\u001b[0m \u001b[0mException\u001b[0m\u001b[0;34m:\u001b[0m\u001b[0;34m\u001b[0m\u001b[0;34m\u001b[0m\u001b[0m\n\u001b[1;32m   2322\u001b[0m             \u001b[0;32mif\u001b[0m \u001b[0mopen_fp\u001b[0m\u001b[0;34m:\u001b[0m\u001b[0;34m\u001b[0m\u001b[0;34m\u001b[0m\u001b[0m\n",
      "\u001b[0;32m~/opt/anaconda3/lib/python3.9/site-packages/PIL/PngImagePlugin.py\u001b[0m in \u001b[0;36m_save\u001b[0;34m(im, fp, filename, chunk, save_all)\u001b[0m\n\u001b[1;32m   1372\u001b[0m         \u001b[0m_write_multiple_frames\u001b[0m\u001b[0;34m(\u001b[0m\u001b[0mim\u001b[0m\u001b[0;34m,\u001b[0m \u001b[0mfp\u001b[0m\u001b[0;34m,\u001b[0m \u001b[0mchunk\u001b[0m\u001b[0;34m,\u001b[0m \u001b[0mrawmode\u001b[0m\u001b[0;34m)\u001b[0m\u001b[0;34m\u001b[0m\u001b[0;34m\u001b[0m\u001b[0m\n\u001b[1;32m   1373\u001b[0m     \u001b[0;32melse\u001b[0m\u001b[0;34m:\u001b[0m\u001b[0;34m\u001b[0m\u001b[0;34m\u001b[0m\u001b[0m\n\u001b[0;32m-> 1374\u001b[0;31m         \u001b[0mImageFile\u001b[0m\u001b[0;34m.\u001b[0m\u001b[0m_save\u001b[0m\u001b[0;34m(\u001b[0m\u001b[0mim\u001b[0m\u001b[0;34m,\u001b[0m \u001b[0m_idat\u001b[0m\u001b[0;34m(\u001b[0m\u001b[0mfp\u001b[0m\u001b[0;34m,\u001b[0m \u001b[0mchunk\u001b[0m\u001b[0;34m)\u001b[0m\u001b[0;34m,\u001b[0m \u001b[0;34m[\u001b[0m\u001b[0;34m(\u001b[0m\u001b[0;34m\"zip\"\u001b[0m\u001b[0;34m,\u001b[0m \u001b[0;34m(\u001b[0m\u001b[0;36m0\u001b[0m\u001b[0;34m,\u001b[0m \u001b[0;36m0\u001b[0m\u001b[0;34m)\u001b[0m \u001b[0;34m+\u001b[0m \u001b[0mim\u001b[0m\u001b[0;34m.\u001b[0m\u001b[0msize\u001b[0m\u001b[0;34m,\u001b[0m \u001b[0;36m0\u001b[0m\u001b[0;34m,\u001b[0m \u001b[0mrawmode\u001b[0m\u001b[0;34m)\u001b[0m\u001b[0;34m]\u001b[0m\u001b[0;34m)\u001b[0m\u001b[0;34m\u001b[0m\u001b[0;34m\u001b[0m\u001b[0m\n\u001b[0m\u001b[1;32m   1375\u001b[0m \u001b[0;34m\u001b[0m\u001b[0m\n\u001b[1;32m   1376\u001b[0m     \u001b[0;32mif\u001b[0m \u001b[0minfo\u001b[0m\u001b[0;34m:\u001b[0m\u001b[0;34m\u001b[0m\u001b[0;34m\u001b[0m\u001b[0m\n",
      "\u001b[0;32m~/opt/anaconda3/lib/python3.9/site-packages/PIL/ImageFile.py\u001b[0m in \u001b[0;36m_save\u001b[0;34m(im, fp, tile, bufsize)\u001b[0m\n\u001b[1;32m    516\u001b[0m                     \u001b[0;31m# compress to Python file-compatible object\u001b[0m\u001b[0;34m\u001b[0m\u001b[0;34m\u001b[0m\u001b[0m\n\u001b[1;32m    517\u001b[0m                     \u001b[0;32mwhile\u001b[0m \u001b[0;32mTrue\u001b[0m\u001b[0;34m:\u001b[0m\u001b[0;34m\u001b[0m\u001b[0;34m\u001b[0m\u001b[0m\n\u001b[0;32m--> 518\u001b[0;31m                         \u001b[0ml\u001b[0m\u001b[0;34m,\u001b[0m \u001b[0ms\u001b[0m\u001b[0;34m,\u001b[0m \u001b[0md\u001b[0m \u001b[0;34m=\u001b[0m \u001b[0mencoder\u001b[0m\u001b[0;34m.\u001b[0m\u001b[0mencode\u001b[0m\u001b[0;34m(\u001b[0m\u001b[0mbufsize\u001b[0m\u001b[0;34m)\u001b[0m\u001b[0;34m\u001b[0m\u001b[0;34m\u001b[0m\u001b[0m\n\u001b[0m\u001b[1;32m    519\u001b[0m                         \u001b[0mfp\u001b[0m\u001b[0;34m.\u001b[0m\u001b[0mwrite\u001b[0m\u001b[0;34m(\u001b[0m\u001b[0md\u001b[0m\u001b[0;34m)\u001b[0m\u001b[0;34m\u001b[0m\u001b[0;34m\u001b[0m\u001b[0m\n\u001b[1;32m    520\u001b[0m                         \u001b[0;32mif\u001b[0m \u001b[0ms\u001b[0m\u001b[0;34m:\u001b[0m\u001b[0;34m\u001b[0m\u001b[0;34m\u001b[0m\u001b[0m\n",
      "\u001b[0;31mKeyboardInterrupt\u001b[0m: "
     ]
    }
   ],
   "source": [
    "output_dir = 'output/textrecog/imgs'\n",
    "os.makedirs(output_dir, exist_ok=True)\n",
    "size = 400_000\n",
    "img_id = 0\n",
    "fp = open(os.path.join(output_dir, 'metadata.txt'), 'w')\n",
    "fp.write('file_name,text\\n')\n",
    "for i in trange(size):\n",
    "    imgs, text = gen_and_aug()\n",
    "    for img in imgs:\n",
    "        img_name = f'{img_id}.png'\n",
    "        img_id += 1\n",
    "        img.save(os.path.join(output_dir,img_name), quality=100, subsampling=0)\n",
    "        fp.write(f'{img_name},{text}\\n')\n",
    "fp.close()   "
   ]
  },
  {
   "cell_type": "code",
   "execution_count": null,
   "id": "bb923c4a",
   "metadata": {},
   "outputs": [],
   "source": []
  },
  {
   "cell_type": "code",
   "execution_count": null,
   "id": "3ba8dc49",
   "metadata": {},
   "outputs": [],
   "source": []
  },
  {
   "cell_type": "code",
   "execution_count": null,
   "id": "ef346a8d",
   "metadata": {},
   "outputs": [],
   "source": []
  },
  {
   "cell_type": "code",
   "execution_count": null,
   "id": "a358d1b0",
   "metadata": {},
   "outputs": [],
   "source": []
  }
 ],
 "metadata": {
  "kernelspec": {
   "display_name": "Python 3 (ipykernel)",
   "language": "python",
   "name": "python3"
  },
  "language_info": {
   "codemirror_mode": {
    "name": "ipython",
    "version": 3
   },
   "file_extension": ".py",
   "mimetype": "text/x-python",
   "name": "python",
   "nbconvert_exporter": "python",
   "pygments_lexer": "ipython3",
   "version": "3.9.7"
  }
 },
 "nbformat": 4,
 "nbformat_minor": 5
}
